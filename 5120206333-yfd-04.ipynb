{
 "cells": [
  {
   "cell_type": "markdown",
   "metadata": {},
   "source": [
    "使用sklearn调包实现SVM"
   ]
  },
  {
   "cell_type": "code",
   "execution_count": 1,
   "metadata": {},
   "outputs": [],
   "source": [
    "from sklearn import svm\n",
    "from sklearn import datasets \n",
    "import numpy as np"
   ]
  },
  {
   "cell_type": "markdown",
   "metadata": {},
   "source": [
    "使用SVM实现数据的分类"
   ]
  },
  {
   "cell_type": "code",
   "execution_count": 2,
   "metadata": {},
   "outputs": [],
   "source": [
    "# 使用datasets中的数据\n",
    "load_iris = datasets.load_iris\n",
    "data_ir = load_iris().data  #花的种类数据\n",
    "tar_ir = load_iris().target  #花的种类\n",
    "\n",
    "\n",
    "# 训练数据\n",
    "data_ir_train = data_ir[:-20]\n",
    "tar_ir_train = tar_ir[:-20] "
   ]
  },
  {
   "cell_type": "code",
   "execution_count": 3,
   "metadata": {},
   "outputs": [
    {
     "name": "stdout",
     "output_type": "stream",
     "text": [
      "测试的数据种类为 [2 2 0 1 2 0 2 1 0 2 1 1 2 0 2 2 1 0 2 0]\n",
      "原本的数据种类为 [2 2 0 1 2 0 2 1 0 2 1 1 2 0 2 2 1 0 2 0]\n"
     ]
    }
   ],
   "source": [
    "# 加载模型的参数\n",
    "mod_1 = svm.SVC()\n",
    "mod_1.fit(data_ir_train,tar_ir_train)\n",
    "pre_class = mod_1.predict(data_ir[-10:])\n",
    "\n",
    "num = np.random.randint(0,len(data_ir),20) #构建测试数据\n",
    "\n",
    "data_ir_test = np.array([data_ir[i] for i in num])\n",
    "tar_ir_class = np.array([tar_ir[i] for i in num]) #原本的数据类型\n",
    "\n",
    "\n",
    "# 数据的预测\n",
    "tar_ir_pre = mod_1.predict(data_ir_test)\n",
    "print('测试的数据种类为',tar_ir_pre)\n",
    "print('原本的数据种类为',tar_ir_class)"
   ]
  },
  {
   "cell_type": "markdown",
   "metadata": {},
   "source": [
    "使用SVM实现回归模型"
   ]
  },
  {
   "cell_type": "code",
   "execution_count": 4,
   "metadata": {},
   "outputs": [
    {
     "name": "stdout",
     "output_type": "stream",
     "text": [
      "a值为 [[3.03041312]]\n",
      "b值为 [5.02394758]\n"
     ]
    },
    {
     "name": "stderr",
     "output_type": "stream",
     "text": [
      "f:\\anaconda\\lib\\site-packages\\sklearn\\utils\\validation.py:63: DataConversionWarning: A column-vector y was passed when a 1d array was expected. Please change the shape of y to (n_samples, ), for example using ravel().\n",
      "  return f(*args, **kwargs)\n"
     ]
    }
   ],
   "source": [
    "mod_2 = svm.SVR(kernel = \"linear\") #加载线性规划模型\n",
    "\n",
    "N = 150\n",
    "x = np.linspace(-3,3,N).reshape(-1,1)\n",
    "\n",
    "y = 3 * x + 5\n",
    "\n",
    "y_loss = y + np.random.rand(N,1) - 0.5 #加了噪声的y值\n",
    "\n",
    "mod_2.fit(x,y_loss)\n",
    "print('a值为',mod_2.coef_)\n",
    "print('b值为',mod_2.intercept_)"
   ]
  },
  {
   "cell_type": "code",
   "execution_count": 7,
   "metadata": {},
   "outputs": [
    {
     "data": {
      "image/png": "[encoded data removed]",
      "text/plain": [
       "<Figure size 432x288 with 1 Axes>"
      ]
     },
     "metadata": {
      "needs_background": "light"
     },
     "output_type": "display_data"
    },
    {
     "data": {
      "image/png": "[encoded data removed]",
      "text/plain": [
       "<Figure size 432x288 with 1 Axes>"
      ]
     },
     "metadata": {
      "needs_background": "light"
     },
     "output_type": "display_data"
    }
   ],
   "source": [
    "import matplotlib.pyplot as plt\n",
    "\n",
    "plt.plot(x,y,label = 'TRUE DATA')\n",
    "plt.plot(x,y_loss,label = 'FALSE DATA')\n",
    "plt.legend()\n",
    "plt.show()\n",
    "\n",
    "# 使用模型得到的b值和a值来写出回归曲线\n",
    "\n",
    "a = mod_2.coef_[0][0]\n",
    "b = mod_2.intercept_[0]\n",
    "\n",
    "y_pre = x * a + b\n",
    "\n",
    "plt.plot(x,y_pre,label = 'PREDICT') #模型得到的值进行预测\n",
    "plt.plot(x,y,label = 'TURE') #原本的数据\n",
    "plt.legend()\n",
    "plt.show()"
   ]
  },
  {
   "cell_type": "markdown",
   "metadata": {},
   "source": [
    "实现SMO算法\n",
    "\n",
    "    高斯核函数\n",
    "    \n",
    "    k(x,y) = exp(-lamd * ||x - y|| ** 2)"
   ]
  },
  {
   "cell_type": "code",
   "execution_count": 8,
   "metadata": {},
   "outputs": [],
   "source": [
    "def tar_fun(alpha,Q):  #原函数\n",
    "    one_mat = np.ones(len(alpha)) #构建单位矩阵\n",
    "    return 0.5 * alpha.T @ Q @ alpha - one_mat.T @ alpha\n",
    "    # Q(n,n)\n",
    "    #alpha (n,1)\n",
    "\n",
    "\n",
    "def Q_fun(x1,x2,y1,y2,lamd):\n",
    "    len_1 = len(y1)\n",
    "    len_2 = len(y2)\n",
    "    Q = np.zeros((len_1,len_2))  # m * n\n",
    "    for i in range(len_1):\n",
    "        for j in range(len_2):\n",
    "            Q[i][j] = y1[i] * y2[j] * np.exp(-lamd * np.sum((x1[i] - x2[j]) ** 2))\n",
    "            # (1,1) * (1,1) * (1)\n",
    "    return Q\n",
    "\n",
    "\n",
    "def Q_fun_2(x1,x2,lamd):\n",
    "    len_1 = len(x1)\n",
    "    len_2 = len(x2)\n",
    "    Q = np.zeros((len_1,len_2))  # m * n\n",
    "    for i in range(len_1):\n",
    "        for j in range(len_2):\n",
    "            Q[i][j] = np.exp(-lamd * np.sum((x1[i] - x2[j]) ** 2))\n",
    "            # (1,1) * (1,1) * (1)\n",
    "    return Q\n"
   ]
  },
  {
   "cell_type": "code",
   "execution_count": 9,
   "metadata": {},
   "outputs": [
    {
     "name": "stdout",
     "output_type": "stream",
     "text": [
      "     fun: -20.860806778560555\n",
      "     jac: array([-0.40039277,  0.4004848 ,  0.40040994,  0.40040612,  0.40040588,\n",
      "        0.40040588,  0.40038371, -0.40038371, -0.40036178, -0.40036178,\n",
      "       -0.40035415, -0.40036178, -0.40035415, -0.40037632,  0.40035415,\n",
      "       -0.40037632, -0.40036178, -0.40036917, -0.40037632,  0.40037656,\n",
      "        0.40037632, -0.40038395, -0.40036893, -0.40038395,  0.40038371,\n",
      "        0.40037656, -0.40039849,  0.40036917, -0.40038371, -0.40037632,\n",
      "        0.40036178, -0.40038371, -0.40035415, -0.40038371,  0.40035391,\n",
      "       -0.40037632, -0.40035439, -0.40036201, -0.40035439, -0.40035415,\n",
      "       -0.40036178, -0.40035415, -0.40037656,  0.40035415, -0.40037632,\n",
      "       -0.40035415, -0.40036178, -0.40035796, -0.40045524, -0.40037036])\n",
      " message: 'Optimization terminated successfully'\n",
      "    nfev: 153\n",
      "     nit: 3\n",
      "    njev: 3\n",
      "  status: 0\n",
      " success: True\n",
      "       x: array([0.62118041, 1.38904534, 1.35774262, 1.35822467, 1.35822467,\n",
      "       1.35774238, 1.38880431, 0.61216051, 0.58109857, 0.58158086,\n",
      "       0.58158086, 0.58158086, 0.58109857, 0.6126428 , 1.41938396,\n",
      "       0.6126428 , 0.58109857, 0.58109857, 0.61216051, 1.38832202,\n",
      "       1.38832202, 0.61216051, 0.58061652, 0.61216051, 1.38832202,\n",
      "       1.38880431, 0.64322221, 1.41986625, 0.61216051, 0.61216051,\n",
      "       1.41938396, 0.6126428 , 0.58061652, 0.6126428 , 1.41938372,\n",
      "       0.6126428 , 0.58109857, 0.58158063, 0.58158086, 0.58158086,\n",
      "       0.58158086, 0.58109857, 0.61264256, 1.41938396, 0.6126428 ,\n",
      "       0.58109857, 0.58158086, 0.58158086, 0.58133984, 0.59060076])\n"
     ]
    }
   ],
   "source": [
    "# 构建数据\n",
    "N = 50\n",
    "lamd = 100\n",
    "x = np.linspace(-5,5,N).reshape(-1,1)\n",
    "\n",
    "y = np.random.randint(-1,2,N)  #label\n",
    "y[y==0] = 1\n",
    "Q = Q_fun(x,x,y,y,lamd)\n",
    "\n",
    "# 通过scipy中的minimize进行分类参数的预估\n",
    "from scipy.optimize import minimize\n",
    "\n",
    "\n",
    "# 实现约束条件\n",
    "from scipy.optimize import Bounds\n",
    "from scipy.optimize import LinearConstraint  \n",
    "linear_constraint = LinearConstraint(y, [0], [0])  #实现y*a = 0\n",
    "bounds = Bounds(np.zeros(N), 10 * np.ones(N))  #  0 <  altha < C\n",
    "\n",
    "\n",
    "res = minimize(tar_fun, np.ones(N),\n",
    "               constraints=linear_constraint,\n",
    "               bounds=bounds,args = Q)\n",
    "print(res)"
   ]
  },
  {
   "cell_type": "code",
   "execution_count": null,
   "metadata": {},
   "outputs": [],
   "source": [
    "# 使用sklearn来进行分类\n",
    "\n",
    "# 预测数据\n",
    "x_test = x[10:]\n",
    "\n",
    "Q1 = Q_fun_2(x,x,lamd)\n",
    "\n",
    "mod_3 = svm.SVC(kernel='precomputed')\n",
    "mod_3.fit(Q,y)\n"
   ]
  },
  {
   "cell_type": "code",
   "execution_count": 12,
   "metadata": {},
   "outputs": [
    {
     "name": "stdout",
     "output_type": "stream",
     "text": [
      "[1.         1.         1.         1.         1.         1.\n",
      " 1.         1.         1.         1.         1.         1.\n",
      " 1.         1.         1.         0.43056906 0.42347879 0.43267066\n",
      " 0.43221528 0.43223867 0.4322039  0.4324159  0.42346646 0.42347075\n",
      " 0.43237184 0.43186642 0.42341789 0.4228855  0.43254687 0.42289874\n",
      " 0.41466772 0.42358336 0.42358336 0.4234701  0.43200875 0.42343954\n",
      " 0.42344513 0.43235775 0.43228892 0.43171239 0.431776   0.43231627\n",
      " 0.43243694 0.42347823 0.422947   0.43235028 0.43228042 0.43227086\n",
      " 0.43242864 0.43844161]\n"
     ]
    },
    {
     "data": {
      "image/png": "[encoded data removed]",
      "text/plain": [
       "<Figure size 432x288 with 1 Axes>"
      ]
     },
     "metadata": {
      "needs_background": "light"
     },
     "output_type": "display_data"
    }
   ],
   "source": [
    "alpha_svm = abs(mod_3.dual_coef_).ravel()\n",
    "print(alpha_svm)\n",
    "# 画图进行对比\n",
    "\n",
    "plt.plot(res.x,label = 'alpha_res')\n",
    "plt.plot(alpha_svm,label = 'alpha_svm')\n",
    "plt.legend()\n",
    "plt.show()"
   ]
  }
 ],
 "metadata": {
  "kernelspec": {
   "display_name": "Python 3.7.0 ('base')",
   "language": "python",
   "name": "python3"
  },
  "language_info": {
   "codemirror_mode": {
    "name": "ipython",
    "version": 3
   },
   "file_extension": ".py",
   "mimetype": "text/x-python",
   "name": "python",
   "nbconvert_exporter": "python",
   "pygments_lexer": "ipython3",
   "version": "3.7.0"
  },
  "orig_nbformat": 4,
  "vscode": {
   "interpreter": {
    "hash": "ec3b6344b8b3f6c3db1463248c46b8920f4fc68f6187e2c1e71f56a52299e245"
   }
  }
 },
 "nbformat": 4,
 "nbformat_minor": 2
}
